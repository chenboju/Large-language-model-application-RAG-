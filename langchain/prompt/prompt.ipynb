{
 "cells": [
  {
   "cell_type": "code",
   "execution_count": null,
   "metadata": {},
   "outputs": [],
   "source": [
    "from langchain_openai import ChatOpenAI\n",
    "from langchain_core.prompts import ChatPromptTemplate \n",
    "from langchain_core.output_parsers import StrOutputParser\n",
    "import os\n",
    "\n",
    "os.environ[\"OPENAI_API_KEY\"] = \"\"\n",
    "\n",
    "llm = ChatOpenAI(\n",
    "    model=\"gpt-4o-mini\"\n",
    "    )"
   ]
  },
  {
   "cell_type": "code",
   "execution_count": 9,
   "metadata": {},
   "outputs": [
    {
     "data": {
      "text/plain": [
       "\"additional_kwargs={'refusal': None}, \\nresponse_metadata={'token_usage':\\n {'completion_tokens': 9, 'prompt_tokens': 8, 'total_tokens': 17, 'completion_tokens_details': \\n {'audio_tokens': None, 'reasoning_tokens': 0}, \\n 'prompt_tokens_details': {'audio_tokens': None, 'cached_tokens': 0}}, \\n 'model_name': 'gpt-4o-mini-2024-07-18', 'system_fingerprint': 'fp_482c22a7bc', 'finish_reason': 'stop', 'logprobs': None}, \\n id='run-0452e672-729a-4be8-b53b-8085c6fc932b-0', \\n usage_metadata={'input_tokens': 8, 'output_tokens': 9, 'total_tokens': 17, \\n 'input_token_details': {'cache_read': 0}, 'output_token_details': {'reasoning': 0}})\\n \""
      ]
     },
     "execution_count": 9,
     "metadata": {},
     "output_type": "execute_result"
    }
   ],
   "source": [
    "llm.invoke(\"你好\")\n",
    "'''additional_kwargs={'refusal': None}, \n",
    "response_metadata={'token_usage':\n",
    " {'completion_tokens': 9, 'prompt_tokens': 8, 'total_tokens': 17, 'completion_tokens_details': \n",
    " {'audio_tokens': None, 'reasoning_tokens': 0}, \n",
    " 'prompt_tokens_details': {'audio_tokens': None, 'cached_tokens': 0}}, \n",
    " 'model_name': 'gpt-4o-mini-2024-07-18', 'system_fingerprint': 'fp_482c22a7bc', 'finish_reason': 'stop', 'logprobs': None}, \n",
    " id='run-0452e672-729a-4be8-b53b-8085c6fc932b-0', \n",
    " usage_metadata={'input_tokens': 8, 'output_tokens': 9, 'total_tokens': 17, \n",
    " 'input_token_details': {'cache_read': 0}, 'output_token_details': {'reasoning': 0}})\n",
    " '''"
   ]
  },
  {
   "cell_type": "code",
   "execution_count": 10,
   "metadata": {},
   "outputs": [
    {
     "data": {
      "text/plain": [
       "'你好！有什么我可以帮助你的吗？'"
      ]
     },
     "execution_count": 10,
     "metadata": {},
     "output_type": "execute_result"
    }
   ],
   "source": [
    "llm.invoke(\"你好\").content"
   ]
  },
  {
   "cell_type": "code",
   "execution_count": 11,
   "metadata": {},
   "outputs": [
    {
     "data": {
      "text/plain": [
       "'你好！有什么我可以帮助你的吗？'"
      ]
     },
     "execution_count": 11,
     "metadata": {},
     "output_type": "execute_result"
    }
   ],
   "source": [
    "parser=StrOutputParser()\n",
    "chain= llm | parser\n",
    "chain.invoke(\"你好\")"
   ]
  },
  {
   "cell_type": "code",
   "execution_count": 12,
   "metadata": {},
   "outputs": [
    {
     "data": {
      "text/plain": [
       "'Hello.'"
      ]
     },
     "execution_count": 12,
     "metadata": {},
     "output_type": "execute_result"
    }
   ],
   "source": [
    "parser=StrOutputParser()\n",
    "chain= llm | parser\n",
    "chain.invoke(\"將以下內容翻譯成英文:你好\")"
   ]
  },
  {
   "cell_type": "code",
   "execution_count": 20,
   "metadata": {},
   "outputs": [
    {
     "data": {
      "text/plain": [
       "'I live in Hsinchu.'"
      ]
     },
     "execution_count": 20,
     "metadata": {},
     "output_type": "execute_result"
    }
   ],
   "source": [
    "prompt_template=ChatPromptTemplate.from_messages(\n",
    "    [   (\"system\",\"將以下內容翻譯成{language}\"), #注意大小寫 System會出error\n",
    "        (\"user\",\"{text}\")\n",
    "    ]\n",
    ")\n",
    "\n",
    "chain= prompt_template | llm | parser\n",
    "\n",
    "target_language = \"英文\" #要修改語言直接改target_language \n",
    "user_input = \"我家住在新竹\"\n",
    "\n",
    "chain.invoke({\"language\":target_language,\"text\":user_input})\n",
    "\n",
    "\n",
    "\n",
    "\n"
   ]
  },
  {
   "cell_type": "markdown",
   "metadata": {},
   "source": [
    "練習"
   ]
  },
  {
   "cell_type": "code",
   "execution_count": 30,
   "metadata": {},
   "outputs": [],
   "source": [
    "parser = StrOutputParser()\n",
    "\n",
    "system_prompt = \"\"\"\n",
    "請依照這個格式回答:\n",
    "單字: {text}\n",
    "情境: {scenario}\n",
    "{native_language} 翻譯:\n",
    "{target_language} 造句:\n",
    "{native_language} 翻譯:\n",
    "\"\"\"\n",
    "\n",
    "prompt_template = ChatPromptTemplate.from_messages(\n",
    "    [\n",
    "        (\"system\", system_prompt), \n",
    "        (\"user\", \"{text}\")\n",
    "    ]\n",
    ")\n",
    "\n",
    "chain = prompt_template | llm | parser"
   ]
  },
  {
   "cell_type": "code",
   "execution_count": 31,
   "metadata": {},
   "outputs": [],
   "source": [
    "native_language = \"繁體中文\"\n",
    "target_language = \"英文\"\n",
    "scenario_array = [\n",
    "    \"在餐廳\",\n",
    "    \"在學校\",\n",
    "    \"在家裡\",\n",
    "    \"在辦公室\",\n",
    "    \"在機場\"\n",
    "]\n",
    "vocabularies = [\n",
    "    \"hungry\",\n",
    "    \"glad\",  \n",
    "    \"stranger\",\n",
    "    \"proud\",\n",
    "    \"excited\"\n",
    "]"
   ]
  },
  {
   "cell_type": "code",
   "execution_count": 33,
   "metadata": {},
   "outputs": [
    {
     "name": "stdout",
     "output_type": "stream",
     "text": [
      "單字: hungry  \n",
      "情境: 在餐廳  \n",
      "繁體中文 翻譯: 饑餓的  \n",
      "英文 造句: I am so hungry that I could eat a horse.  \n",
      "繁體中文 翻譯: 我餓得可以吃下一匹馬。\n",
      "====\n",
      "單字: hungry  \n",
      "情境: 在學校  \n",
      "繁體中文 翻譯: 饑餓的  \n",
      "英文 造句: I am so hungry after gym class that I can't wait to eat lunch.  \n",
      "繁體中文 翻譯: 我在體育課後非常饑餓，等不及要吃午餐了。  \n",
      "====\n",
      "單字: hungry  \n",
      "情境: 在家裡  \n",
      "繁體中文 翻譯: 餓的  \n",
      "英文 造句: I am so hungry that I could eat a whole pizza.  \n",
      "繁體中文 翻譯: 我餓得可以吃整個比薩。\n",
      "====\n",
      "單字: hungry  \n",
      "情境: 在辦公室  \n",
      "繁體中文 翻譯: 餓  \n",
      "英文 造句: I'm feeling really hungry after working all morning without a break.  \n",
      "繁體中文 翻譯: 我上午工作了整個早上沒有休息，現在感覺很餓。\n",
      "====\n",
      "單字: hungry  \n",
      "情境: 在機場  \n",
      "繁體中文 翻譯: 饑餓的  \n",
      "英文 造句: I'm so hungry, I can't wait to grab a bite before my flight.  \n",
      "繁體中文 翻譯: 我太餓了，在我的航班之前我迫不及待想吃點東西。\n",
      "====\n",
      "單字: glad  \n",
      "情境: 在餐廳  \n",
      "繁體中文 翻譯: 高興的  \n",
      "英文 造句: I am glad to see that the restaurant has a new menu.  \n",
      "繁體中文 翻譯: 我很高興看到餐廳有了新的菜單。\n",
      "====\n",
      "單字: glad  \n",
      "情境: 在學校  \n",
      "繁體中文翻譯: 高興的  \n",
      "英文造句: I am glad to see my friends again at school.  \n",
      "繁體中文翻譯: 我很高興在學校再次見到我的朋友們。\n",
      "====\n",
      "單字: glad  \n",
      "情境: 在家裡  \n",
      "繁體中文翻譯: 高興的  \n",
      "英文造句: I am glad to see my family gathered together for dinner.  \n",
      "繁體中文翻譯: 我很高興看到我的家人聚在一起吃晚餐。  \n",
      "====\n",
      "單字: glad  \n",
      "情境: 在辦公室  \n",
      "繁體中文 翻譯: 高興的  \n",
      "英文 造句: I am glad to hear that our project has been approved.  \n",
      "繁體中文 翻譯: 我很高興聽到我們的專案已經獲得批准。\n",
      "====\n",
      "單字: glad  \n",
      "情境: 在機場  \n",
      "繁體中文 翻譯: 高興的  \n",
      "英文 造句: I am glad to see you at the airport after such a long time.  \n",
      "繁體中文 翻譯: 在經過這麼長的時間後，我很高興在機場見到你。\n",
      "====\n",
      "單字: stranger  \n",
      "情境: 在餐廳  \n",
      "繁體中文 翻譯: 陌生人  \n",
      "英文 造句: The stranger at the next table kept glancing over at us while we were eating.  \n",
      "繁體中文 翻譯: 在我們用餐的時候，旁邊桌的陌生人一直瞥向我們。\n",
      "====\n",
      "單字: stranger  \n",
      "情境: 在學校  \n",
      "繁體中文 翻譯: 陌生人  \n",
      "英文 造句: I saw a stranger walking around the school campus.  \n",
      "繁體中文 翻譯: 我看到一個陌生人在校園裡走來走去。\n",
      "====\n",
      "單字: stranger  \n",
      "情境: 在家裡  \n",
      "繁體中文 翻譯: 陌生人  \n",
      "英文 造句: I was surprised to see a stranger at my front door.  \n",
      "繁體中文 翻譯: 我對於在我前門看到一個陌生人感到驚訝。\n",
      "====\n",
      "單字: stranger  \n",
      "情境: 在辦公室  \n",
      "繁體中文 翻譯: 陌生人  \n",
      "英文 造句: I felt a bit uneasy when a stranger entered the office without any identification.  \n",
      "繁體中文 翻譯: 當一個陌生人沒有任何身份證明走進辦公室時，我感到有點不安。\n",
      "====\n",
      "單字: stranger  \n",
      "情境: 在機場  \n",
      "繁體中文 翻譯: 陌生人  \n",
      "英文 造句: I saw a stranger sitting alone at the airport terminal, looking lost.  \n",
      "繁體中文 翻譯: 我看到一個陌生人獨自坐在機場候機室，看起來很迷茫。\n",
      "====\n",
      "單字: proud  \n",
      "情境: 在餐廳  \n",
      "繁體中文 翻譯: 自豪的  \n",
      "英文 造句: I felt proud when the chef complimented my choice of dish.  \n",
      "繁體中文 翻譯: 當廚師稱讚我的菜餚選擇時，我感到自豪。\n",
      "====\n",
      "單字: proud  \n",
      "情境: 在學校  \n",
      "繁體中文 翻譯: 驕傲的  \n",
      "英文 造句: I felt proud when I received the award for my academic achievements.  \n",
      "繁體中文 翻譯: 當我獲得學業成就獎時，我感到驕傲。\n",
      "====\n",
      "單字: proud  \n",
      "情境: 在家裡  \n",
      "繁體中文翻譯: 自豪的  \n",
      "英文造句: I feel proud of my children for their hard work and achievements.  \n",
      "繁體中文翻譯: 我為我的孩子們的努力和成就感到自豪。  \n",
      "====\n",
      "單字: proud  \n",
      "情境: 在辦公室  \n",
      "繁體中文 翻譯: 驕傲的  \n",
      "英文 造句: I am proud of the team for completing the project ahead of schedule.  \n",
      "繁體中文 翻譯: 我為團隊提前完成專案感到驕傲。\n",
      "====\n",
      "單字: proud  \n",
      "情境: 在機場  \n",
      "繁體中文 翻譯: 驕傲的  \n",
      "英文 造句: I felt so proud when I saw my family waiting for me at the airport.  \n",
      "繁體中文 翻譯: 當我看到我的家人在機場等我時，我感到非常驕傲。\n",
      "====\n",
      "單字: excited  \n",
      "情境: 在餐廳  \n",
      "繁體中文 翻譯: 興奮的  \n",
      "英文 造句: I am so excited to try the new dishes on the menu!  \n",
      "繁體中文 翻譯: 我非常興奮想要嘗試菜單上的新菜！\n",
      "====\n",
      "單字: excited  \n",
      "情境: 在學校  \n",
      "繁體中文 翻譯: 興奮的  \n",
      "英文 造句: I am excited about the upcoming school trip to the science museum.  \n",
      "繁體中文 翻譯: 我對即將到來的科學博物館校外教學感到興奮。\n",
      "====\n",
      "單字: excited  \n",
      "情境: 在家裡  \n",
      "繁體中文 翻譯: 興奮的  \n",
      "英文 造句: I am so excited to open my birthday presents at home!  \n",
      "繁體中文 翻譯: 我在家裡打開生日禮物時非常興奮！\n",
      "====\n",
      "單字: excited  \n",
      "情境: 在辦公室  \n",
      "繁體中文 翻譯: 興奮的  \n",
      "英文 造句: I am excited to present my project to the team today.  \n",
      "繁體中文 翻譯: 我今天很興奮要向團隊展示我的專案。\n",
      "====\n",
      "單字: excited  \n",
      "情境: 在機場  \n",
      "繁體中文 翻譯: 興奮的  \n",
      "英文 造句: I am so excited to finally go on vacation!  \n",
      "繁體中文 翻譯: 我非常興奮終於要去度假了！\n",
      "====\n"
     ]
    }
   ],
   "source": [
    "results = []\n",
    "\n",
    "for vocabulary in vocabularies:\n",
    "    for scenario in scenario_array:\n",
    "        result = chain.invoke(\n",
    "            {\n",
    "                \"native_language\": native_language,\n",
    "                \"scenario\": scenario,\n",
    "                \"target_language\": target_language,\n",
    "                \"text\": vocabulary  \n",
    "            }\n",
    "        )\n",
    "        results.append(result)\n",
    "\n",
    "for result in results:\n",
    "    print(result)\n",
    "    print(\"====\")"
   ]
  },
  {
   "cell_type": "code",
   "execution_count": null,
   "metadata": {},
   "outputs": [],
   "source": []
  }
 ],
 "metadata": {
  "kernelspec": {
   "display_name": "langchainragas",
   "language": "python",
   "name": "python3"
  },
  "language_info": {
   "codemirror_mode": {
    "name": "ipython",
    "version": 3
   },
   "file_extension": ".py",
   "mimetype": "text/x-python",
   "name": "python",
   "nbconvert_exporter": "python",
   "pygments_lexer": "ipython3",
   "version": "3.10.15"
  }
 },
 "nbformat": 4,
 "nbformat_minor": 2
}
