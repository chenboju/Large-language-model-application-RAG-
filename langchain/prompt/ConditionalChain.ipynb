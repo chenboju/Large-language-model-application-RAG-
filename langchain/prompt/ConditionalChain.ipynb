{
 "cells": [
  {
   "cell_type": "markdown",
   "metadata": {},
   "source": [
    "功能概述\n",
    "\n",
    "這段程式碼實現了基於情緒分析的回應邏輯，結合了 LangChain 框架的提示模板與處理鏈功能，完成以下任務：\n",
    "\n",
    "分析使用者輸入的情緒，判斷是否為 正向 或 負面。\n",
    "\n",
    "根據情緒結果，自動選擇適當的回應方式：\n",
    "\n",
    "正向情緒：給予鼓勵或正向的互動回應。\n",
    "\n",
    "負面情緒：提供安撫的回應。"
   ]
  },
  {
   "cell_type": "code",
   "execution_count": null,
   "metadata": {},
   "outputs": [],
   "source": [
    "from langchain_openai import ChatOpenAI\n",
    "from langchain.chains import LLMChain,SimpleSequentialChain\n",
    "from langchain_core.prompts import PromptTemplate\n",
    "import os\n",
    "\n",
    "os.environ[\"OPENAI_API_KEY\"] = \"\"\n",
    "llm = ChatOpenAI(\n",
    "    model=\"gpt-4o-mini\"\n",
    ")"
   ]
  },
  {
   "cell_type": "code",
   "execution_count": 3,
   "metadata": {},
   "outputs": [
    {
     "name": "stderr",
     "output_type": "stream",
     "text": [
      "C:\\Users\\chen\\AppData\\Local\\Temp\\ipykernel_23332\\2556466386.py:6: LangChainDeprecationWarning: The class `LLMChain` was deprecated in LangChain 0.1.17 and will be removed in 1.0. Use :meth:`~RunnableSequence, e.g., `prompt | llm`` instead.\n",
      "  sentiment_analysis_chain=LLMChain(llm=llm,prompt=sentiment_analysis_prompt)\n"
     ]
    }
   ],
   "source": [
    "sentiment_analysis_prompt=PromptTemplate(\n",
    "    input_variables=[\"user_input\"],\n",
    "    template=\"根據這段話分析情緒，並僅回答'positive'或 'netgive':'{user_input}'\"\n",
    ")\n",
    "\n",
    "sentiment_analysis_chain=LLMChain(llm=llm,prompt=sentiment_analysis_prompt)"
   ]
  },
  {
   "cell_type": "code",
   "execution_count": 8,
   "metadata": {},
   "outputs": [],
   "source": [
    "netgive_response_prompt=PromptTemplate(\n",
    "    input_variables=[\"user_input\"],\n",
    "    template=\"使用者說了這句話:'{user_input}'請給一段安撫的回應\"\n",
    ")\n",
    "\n",
    "positive_response_prompt=PromptTemplate(\n",
    "    input_variables=[\"user_input\"],\n",
    "    template=\"使用者說了這句話:'{user_input}'請給出一段正向互動的回應\"\n",
    ")"
   ]
  },
  {
   "cell_type": "code",
   "execution_count": 9,
   "metadata": {},
   "outputs": [],
   "source": [
    "netgive_response_chain=LLMChain(llm=llm,prompt=netgive_response_prompt)\n",
    "positive_response_chain=LLMChain(llm=llm,prompt=positive_response_prompt)\n"
   ]
  },
  {
   "cell_type": "code",
   "execution_count": 10,
   "metadata": {},
   "outputs": [],
   "source": [
    "def excute_conditional_chain(user_input):\n",
    "    sentiment_result=sentiment_analysis_chain.run({\"user_input\":user_input})\n",
    "\n",
    "    if sentiment_result.strip().lower()==\"netgive\":\n",
    "        return netgive_response_chain.run({\"user_input\":user_input})\n",
    "    else:\n",
    "        return positive_response_chain.run({\"user_input\":user_input})\n",
    "    "
   ]
  },
  {
   "cell_type": "code",
   "execution_count": 12,
   "metadata": {},
   "outputs": [
    {
     "name": "stdout",
     "output_type": "stream",
     "text": [
      "非常感謝您的反饋！我們很高興知道您對我們的服務感到滿意。您的支持對我們來說非常重要，我們會繼續努力提供更好的服務。如果您有任何建議或需求，隨時告訴我們喔！\n"
     ]
    }
   ],
   "source": [
    "result=excute_conditional_chain(\"我對妳們的服務感到非常滿意\")\n",
    "print(result)"
   ]
  },
  {
   "cell_type": "code",
   "execution_count": 13,
   "metadata": {},
   "outputs": [
    {
     "name": "stdout",
     "output_type": "stream",
     "text": [
      "謝謝您的反饋！我們非常重視您的意見，並希望能夠改進服務讓您有更好的體驗。您能否分享更多具體的情況或建議？我們會努力聆聽並做出改善！\n"
     ]
    }
   ],
   "source": [
    "result=excute_conditional_chain(\"服務很爛\")\n",
    "print(result)"
   ]
  }
 ],
 "metadata": {
  "kernelspec": {
   "display_name": "langchainragas",
   "language": "python",
   "name": "python3"
  },
  "language_info": {
   "codemirror_mode": {
    "name": "ipython",
    "version": 3
   },
   "file_extension": ".py",
   "mimetype": "text/x-python",
   "name": "python",
   "nbconvert_exporter": "python",
   "pygments_lexer": "ipython3",
   "version": "3.10.15"
  }
 },
 "nbformat": 4,
 "nbformat_minor": 2
}
