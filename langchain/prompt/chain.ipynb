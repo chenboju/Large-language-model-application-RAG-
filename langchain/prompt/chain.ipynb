{
 "cells": [
  {
   "cell_type": "markdown",
   "metadata": {},
   "source": [
    "\n",
    "功能概述\n",
    "\n",
    "這段程式碼的主要目的是演示如何使用 LangChain 框架來完成兩項任務：\n",
    "\n",
    "英文到繁體中文的翻譯：透過自定義提示模板完成翻譯操作。\n",
    "\n",
    "資料摘要：利用不同的提示模板生成符合事實且非條列式的摘要。\n",
    "核心模組包括：\n",
    "\n",
    "ChatOpenAI：用於與 GPT 模型互動。\n",
    "\n",
    "LLMChain：結合提示模板與模型形成鏈式處理。\n",
    "\n",
    "PromptTemplate：定義具體的提示模板以處理特定任務。\n"
   ]
  },
  {
   "cell_type": "code",
   "execution_count": null,
   "metadata": {},
   "outputs": [],
   "source": [
    "from langchain_openai import ChatOpenAI  # LangChain 的 OpenAI Chat 模組，用於與 GPT 模型互動\n",
    "from langchain.chains import LLMChain  # 負責處理大型語言模型的鏈式操作\n",
    "from langchain_core.prompts import PromptTemplate  # 用於定義提示模板的模組\n",
    "import os  # 操作系統模組，用於環境變數設定\n",
    "\n",
    "os.environ[\"OPENAI_API_KEY\"] = \"\"\n",
    "# 初始化 GPT 模型\n",
    "llm = ChatOpenAI(\n",
    "    model=\"gpt-4o-mini\"  # 指定使用的 GPT 模型，確認該模型名稱是否有效\n",
    ")"
   ]
  },
  {
   "cell_type": "code",
   "execution_count": null,
   "metadata": {},
   "outputs": [],
   "source": [
    "# 定義翻譯任務的提示模板\n",
    "prompt = PromptTemplate.from_template(\n",
    "    \"Translate the following English text to zh-tw:{text}\"  # 翻譯模板，將輸入的英文翻譯為繁體中文\n",
    ")"
   ]
  },
  {
   "cell_type": "code",
   "execution_count": null,
   "metadata": {},
   "outputs": [
    {
     "name": "stderr",
     "output_type": "stream",
     "text": [
      "C:\\Users\\chen\\AppData\\Local\\Temp\\ipykernel_23884\\2141854709.py:1: LangChainDeprecationWarning: The class `LLMChain` was deprecated in LangChain 0.1.17 and will be removed in 1.0. Use :meth:`~RunnableSequence, e.g., `prompt | llm`` instead.\n",
      "  chain=LLMChain(llm=llm,prompt=prompt)\n"
     ]
    }
   ],
   "source": [
    "# 建立 LLM Chain，結合模型與提示模板\n",
    "chain = LLMChain(llm=llm, prompt=prompt)"
   ]
  },
  {
   "cell_type": "code",
   "execution_count": 4,
   "metadata": {},
   "outputs": [
    {
     "name": "stdout",
     "output_type": "stream",
     "text": [
      "{'text': '你好，你好嗎？'}\n"
     ]
    }
   ],
   "source": [
    "result=chain.invoke({\"text\":\"heloo , how are you\"})\n",
    "print(result)"
   ]
  },
  {
   "cell_type": "code",
   "execution_count": null,
   "metadata": {},
   "outputs": [],
   "source": [
    "# 定義摘要任務的提示模板\n",
    "summary_prompt = PromptTemplate.from_template(\n",
    "    \"請針對以下資料進行摘要，摘要結果不可以偏移事實，並且請避免使用條列式的方式。\\n### {text} ###\"\n",
    ")\n"
   ]
  },
  {
   "cell_type": "markdown",
   "metadata": {},
   "source": [
    "# 測試不同方法呼叫 LLM Chain\n",
    "chain.run(text=\"heloo , how are you\")  # 使用 run 方法直接執行 \n",
    "\n",
    "chain(inputs={\"text\": \"heloo , how are you\"})  # 使用字典格式傳入參數 \n",
    "\n",
    "chain.invoke({\"text\": \"heloo , how are you\"})  # 再次使用 invoke 方法呼叫 \n"
   ]
  },
  {
   "cell_type": "markdown",
   "metadata": {},
   "source": [
    "chain的呼叫\n",
    "run\n",
    "inputs\n",
    "invoke"
   ]
  },
  {
   "cell_type": "code",
   "execution_count": 6,
   "metadata": {},
   "outputs": [
    {
     "name": "stderr",
     "output_type": "stream",
     "text": [
      "C:\\Users\\chen\\AppData\\Local\\Temp\\ipykernel_23884\\2950707997.py:1: LangChainDeprecationWarning: The method `Chain.run` was deprecated in langchain 0.1.0 and will be removed in 1.0. Use :meth:`~invoke` instead.\n",
      "  chain.run(text=\"heloo , how are you\")\n"
     ]
    },
    {
     "data": {
      "text/plain": [
       "'你好，你好嗎？'"
      ]
     },
     "execution_count": 6,
     "metadata": {},
     "output_type": "execute_result"
    }
   ],
   "source": [
    "chain.run(text=\"heloo , how are you\")"
   ]
  },
  {
   "cell_type": "code",
   "execution_count": 7,
   "metadata": {},
   "outputs": [
    {
     "name": "stderr",
     "output_type": "stream",
     "text": [
      "C:\\Users\\chen\\AppData\\Local\\Temp\\ipykernel_23884\\1076541980.py:1: LangChainDeprecationWarning: The method `Chain.__call__` was deprecated in langchain 0.1.0 and will be removed in 1.0. Use :meth:`~invoke` instead.\n",
      "  chain(inputs={\"text\":\"heloo , how are you\"})\n"
     ]
    },
    {
     "data": {
      "text/plain": [
       "{'text': '你好，你好嗎？'}"
      ]
     },
     "execution_count": 7,
     "metadata": {},
     "output_type": "execute_result"
    }
   ],
   "source": [
    "chain(inputs={\"text\":\"heloo , how are you\"})"
   ]
  },
  {
   "cell_type": "code",
   "execution_count": 8,
   "metadata": {},
   "outputs": [
    {
     "data": {
      "text/plain": [
       "{'text': '你好，你好嗎？'}"
      ]
     },
     "execution_count": 8,
     "metadata": {},
     "output_type": "execute_result"
    }
   ],
   "source": [
    "chain.invoke({\"text\":\"heloo , how are you\"})"
   ]
  },
  {
   "cell_type": "markdown",
   "metadata": {},
   "source": [
    "# 啟用詳細模式以便除錯\n",
    "chain = LLMChain(llm=llm, prompt=prompt, verbose=True)  # 開啟 verbose 模式\n",
    "\n",
    "chain.invoke({\"text\": \"heloo , how are you\"})  # 進行翻譯並顯示詳細日誌\n"
   ]
  },
  {
   "cell_type": "markdown",
   "metadata": {},
   "source": [
    "chain的觀察\n",
    "verbose=True"
   ]
  },
  {
   "cell_type": "code",
   "execution_count": 9,
   "metadata": {},
   "outputs": [],
   "source": [
    "chain=LLMChain(llm=llm,prompt=prompt,verbose=True)"
   ]
  },
  {
   "cell_type": "code",
   "execution_count": 10,
   "metadata": {},
   "outputs": [
    {
     "name": "stdout",
     "output_type": "stream",
     "text": [
      "\n",
      "\n",
      "\u001b[1m> Entering new LLMChain chain...\u001b[0m\n",
      "Prompt after formatting:\n",
      "\u001b[32;1m\u001b[1;3mTranslaye the following English text to zh-tw:heloo , how are you\u001b[0m\n",
      "\n",
      "\u001b[1m> Finished chain.\u001b[0m\n"
     ]
    },
    {
     "data": {
      "text/plain": [
       "{'text': '你好，你好嗎？'}"
      ]
     },
     "execution_count": 10,
     "metadata": {},
     "output_type": "execute_result"
    }
   ],
   "source": [
    "chain.invoke({\"text\":\"heloo , how are you\"})"
   ]
  }
 ],
 "metadata": {
  "kernelspec": {
   "display_name": "langchainragas",
   "language": "python",
   "name": "python3"
  },
  "language_info": {
   "codemirror_mode": {
    "name": "ipython",
    "version": 3
   },
   "file_extension": ".py",
   "mimetype": "text/x-python",
   "name": "python",
   "nbconvert_exporter": "python",
   "pygments_lexer": "ipython3",
   "version": "3.10.15"
  }
 },
 "nbformat": 4,
 "nbformat_minor": 2
}
