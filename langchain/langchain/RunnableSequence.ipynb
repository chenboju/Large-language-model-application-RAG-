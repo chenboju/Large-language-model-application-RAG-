{
 "cells": [
  {
   "cell_type": "code",
   "execution_count": null,
   "metadata": {},
   "outputs": [],
   "source": [
    "# from langchain.schema.runnable import RunnableSequence\n",
    "\n",
    "# squence= RunnableSequence(\n",
    "#     first_step=component1,\n",
    "#     second_step=conpoent2,\n",
    "#     third_step=component3\n",
    "\n",
    "# )"
   ]
  },
  {
   "cell_type": "code",
   "execution_count": null,
   "metadata": {},
   "outputs": [],
   "source": [
    "from langchain.schema.runnable import RunnableSequence\n",
    "from langchain_core.prompts import ChatPromptTemplate\n",
    "from langchain_openai import ChatOpenAI\n",
    "from langchain_core.output_parsers import StrOutputParser\n",
    "import os\n",
    "os.environ[\"OPENAI_API_KEY\"] = \"\"\n",
    "llm = ChatOpenAI(\n",
    "    model=\"gpt-4o-mini\"\n",
    ")"
   ]
  },
  {
   "cell_type": "code",
   "execution_count": 5,
   "metadata": {},
   "outputs": [],
   "source": [
    "chinese_prompt=ChatPromptTemplate.from_messages(\n",
    "    [(\"system\",\"你是一位短文高手，將以使用者指定的主題進行寫作創作\"),\n",
    "     (\"user\",\"{topic}\")]\n",
    ")\n",
    "\n",
    "translation_prompt=ChatPromptTemplate.from_messages(\n",
    "    [(\"system\",\"你是一位中英文語言專家，負責中文英的翻譯工作\"),\n",
    "     (\"user\",\"{chinese_article}\")]\n",
    ")"
   ]
  },
  {
   "cell_type": "code",
   "execution_count": 6,
   "metadata": {},
   "outputs": [],
   "source": [
    "work_flow=RunnableSequence(\n",
    "    chinese_prompt,llm,translation_prompt,llm,StrOutputParser()\n",
    ")"
   ]
  },
  {
   "cell_type": "code",
   "execution_count": 7,
   "metadata": {},
   "outputs": [
    {
     "name": "stdout",
     "output_type": "stream",
     "text": [
      "Here is the English translation of the provided Chinese text:\n",
      "\n",
      "---\n",
      "\n",
      "The future of generative AI is filled with infinite possibilities, and it is rapidly changing the way we live, work, and create. With technological advancements, generative AI will play an increasingly important role in various fields.\n",
      "\n",
      "Firstly, in the creative industry, generative AI will become an important partner for artists and designers. By analyzing vast amounts of data, it can generate unique artworks, music, and literary works, inspiring creative ideas. Future artistic creation will no longer be a solo performance by a single artist but rather a collaboration between humans and AI, jointly creating works that are more diverse and creative.\n",
      "\n",
      "Secondly, in the business sector, generative AI will reshape marketing and customer service. By analyzing consumer behavior, AI can generate personalized marketing content, enhancing the conversion rates of advertisements. At the same time, AI-driven chatbots and virtual assistants will be able to provide more efficient customer support, improving user experience.\n",
      "\n",
      "In education, generative AI can create personalized learning materials and tests based on students' needs and learning progress, thus promoting personalized learning. This flexible learning approach will help students grasp knowledge at their own pace, enhancing the effectiveness of learning.\n",
      "\n",
      "However, the development of generative AI also brings several challenges. Issues such as ethical concerns, data privacy, and AI bias require our attention. How to balance technological advancement with social responsibility will be a challenge we must face in future development.\n",
      "\n",
      "In summary, the future of generative AI is filled with opportunities and challenges. It will change our lives while promoting innovation and development across various industries. We need to embrace this transformation with an open attitude, actively explore its potential, and strive to build a better future.\n",
      "\n",
      "--- \n",
      "\n",
      "If you need any further assistance or modifications, feel free to ask!\n"
     ]
    }
   ],
   "source": [
    "print(work_flow.invoke({\"topic\":\"生成式AI的未來\"}))"
   ]
  },
  {
   "cell_type": "code",
   "execution_count": 8,
   "metadata": {},
   "outputs": [],
   "source": [
    "work_flow=chinese_prompt|llm|translation_prompt|llm|StrOutputParser()"
   ]
  },
  {
   "cell_type": "code",
   "execution_count": 9,
   "metadata": {},
   "outputs": [
    {
     "name": "stdout",
     "output_type": "stream",
     "text": [
      "Here's the English translation of the provided content:\n",
      "\n",
      "---\n",
      "\n",
      "With the rapid development of technology, generative AI is gradually becoming an indispensable part of our lives. In the future, this technology will demonstrate limitless potential across various fields, changing the way we work, learn, and create.\n",
      "\n",
      "Firstly, in the creative industry, generative AI will become a valuable assistant for artists and designers. Through deep learning algorithms, AI can generate unique music, images, and text, inspiring creative ideas. Future artworks may be the result of collaboration between humans and AI, breaking the boundaries of traditional creation and paving the way for new artistic trends.\n",
      "\n",
      "Secondly, in the business sector, generative AI will significantly enhance efficiency. Companies can utilize AI to generate market reports, product copy, and even automated customer service replies, saving a substantial amount of human resources. This not only reduces costs but also improves service quality, allowing businesses to respond more flexibly to market changes.\n",
      "\n",
      "In education, generative AI will personalize the learning experience. AI can create tailored teaching materials and practice questions based on students' learning progress and interests, helping them grasp knowledge more quickly in their respective fields. This customized approach to learning will make education fairer and more effective.\n",
      "\n",
      "However, the future of generative AI also faces challenges. As technology advances, ensuring the authenticity and ethics of generated content will become a crucial issue. The spread of misinformation, copyright issues, and the replacement of human creativity are all problems we must confront. In the future, we need to establish a comprehensive legal and ethical framework to protect human interests.\n",
      "\n",
      "In summary, the future of generative AI is filled with hope and challenges. It will bring transformation across various fields, promoting innovation, but it also requires us to think and regulate cautiously. Only in this way can we fully harness the potential of this technology and embrace a brighter future.\n",
      "\n",
      "--- \n",
      "\n",
      "If you need further assistance or specific adjustments, feel free to ask!\n"
     ]
    }
   ],
   "source": [
    "print(work_flow.invoke({\"topic\":\"生成式AI的未來\"}))"
   ]
  }
 ],
 "metadata": {
  "kernelspec": {
   "display_name": "langchainragas",
   "language": "python",
   "name": "python3"
  },
  "language_info": {
   "codemirror_mode": {
    "name": "ipython",
    "version": 3
   },
   "file_extension": ".py",
   "mimetype": "text/x-python",
   "name": "python",
   "nbconvert_exporter": "python",
   "pygments_lexer": "ipython3",
   "version": "3.10.15"
  }
 },
 "nbformat": 4,
 "nbformat_minor": 2
}
