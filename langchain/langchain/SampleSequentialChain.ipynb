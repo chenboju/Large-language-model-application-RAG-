{
 "cells": [
  {
   "cell_type": "code",
   "execution_count": null,
   "metadata": {},
   "outputs": [],
   "source": [
    "from langchain_openai import ChatOpenAI\n",
    "from langchain.chains import LLMChain,SimpleSequentialChain\n",
    "from langchain_core.prompts import PromptTemplate\n",
    "import os\n",
    "\n",
    "os.environ[\"OPENAI_API_KEY\"] = \"\"\n",
    "llm = ChatOpenAI(\n",
    "    model=\"gpt-4o-mini\"\n",
    ")"
   ]
  },
  {
   "cell_type": "code",
   "execution_count": null,
   "metadata": {},
   "outputs": [],
   "source": [
    "describe_prompt=PromptTemplate(\n",
    "    input_variables=[\"city\"],\n",
    "    template=\"請用一段優雅文字描述這個城市: ###{city}###\"\n",
    ")\n",
    "translate_prompt=PromptTemplate(\n",
    "    input_variables=[\"description\"],\n",
    "    template=\"請將以下描述翻譯成英文:###{description}###\"\n",
    ")"
   ]
  },
  {
   "cell_type": "code",
   "execution_count": 4,
   "metadata": {},
   "outputs": [
    {
     "name": "stderr",
     "output_type": "stream",
     "text": [
      "C:\\Users\\chen\\AppData\\Local\\Temp\\ipykernel_28188\\4059638477.py:1: LangChainDeprecationWarning: The class `LLMChain` was deprecated in LangChain 0.1.17 and will be removed in 1.0. Use :meth:`~RunnableSequence, e.g., `prompt | llm`` instead.\n",
      "  describe_chain=LLMChain(llm=llm,prompt=describe_prompt)\n"
     ]
    }
   ],
   "source": [
    "describe_chain=LLMChain(llm=llm,prompt=describe_prompt)\n",
    "translate_chain=LLMChain(llm=llm,prompt=translate_prompt)"
   ]
  },
  {
   "cell_type": "code",
   "execution_count": 10,
   "metadata": {},
   "outputs": [
    {
     "name": "stdout",
     "output_type": "stream",
     "text": [
      "### Kaohsiung, a city located at the southern tip of Taiwan, is like an elegant dancer, leaning against the azure sea and blue sky, showcasing its unique charm. The bustling port bears witness to its prosperity, with the gentle rocking of fishing boats and the rumble of cargo ships seemingly whispering the chapters of history. The city skyline outlines the silhouettes of skyscrapers, harmoniously contrasting with ancient temples, conveying the blend of cultures.\n",
      "\n",
      "On the streets of Kaohsiung, vibrant night markets emit the enticing aromas of delicious foods, with crowds always bustling around the snack stalls, allowing people to indulge in a colorful feast for the senses. The rippling waters of Lotus Pond reflect the hues of the setting sun, offering a sense of infinite tranquility and poetic beauty. The blooming lotus and cherry blossoms add a touch of delicate color to this land.\n",
      "\n",
      "Kaohsiung is not just a city; it is a way of life—inclusive and open, passionate and sincere. Every corner holds a story, and every street exudes warmth, allowing every visitor to find a resonance of the soul. In this vibrant land, time seems to stand still, enchanting people with its beauty.###\n"
     ]
    }
   ],
   "source": [
    "chain=SimpleSequentialChain(chains=[describe_chain,translate_chain])\n",
    "\n",
    "result=chain.invoke(\"高雄\")\n",
    "print(result[\"output\"])"
   ]
  },
  {
   "cell_type": "code",
   "execution_count": 11,
   "metadata": {},
   "outputs": [
    {
     "name": "stdout",
     "output_type": "stream",
     "text": [
      "{'input': '高雄', 'output': '### Kaohsiung, a city located at the southern tip of Taiwan, is like an elegant dancer, leaning against the azure sea and blue sky, showcasing its unique charm. The bustling port bears witness to its prosperity, with the gentle rocking of fishing boats and the rumble of cargo ships seemingly whispering the chapters of history. The city skyline outlines the silhouettes of skyscrapers, harmoniously contrasting with ancient temples, conveying the blend of cultures.\\n\\nOn the streets of Kaohsiung, vibrant night markets emit the enticing aromas of delicious foods, with crowds always bustling around the snack stalls, allowing people to indulge in a colorful feast for the senses. The rippling waters of Lotus Pond reflect the hues of the setting sun, offering a sense of infinite tranquility and poetic beauty. The blooming lotus and cherry blossoms add a touch of delicate color to this land.\\n\\nKaohsiung is not just a city; it is a way of life—inclusive and open, passionate and sincere. Every corner holds a story, and every street exudes warmth, allowing every visitor to find a resonance of the soul. In this vibrant land, time seems to stand still, enchanting people with its beauty.###'}\n"
     ]
    }
   ],
   "source": [
    "print(result)"
   ]
  }
 ],
 "metadata": {
  "kernelspec": {
   "display_name": "langchainragas",
   "language": "python",
   "name": "python3"
  },
  "language_info": {
   "codemirror_mode": {
    "name": "ipython",
    "version": 3
   },
   "file_extension": ".py",
   "mimetype": "text/x-python",
   "name": "python",
   "nbconvert_exporter": "python",
   "pygments_lexer": "ipython3",
   "version": "3.10.15"
  }
 },
 "nbformat": 4,
 "nbformat_minor": 2
}
