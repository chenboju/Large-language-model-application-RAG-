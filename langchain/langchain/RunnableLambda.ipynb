{
 "cells": [
  {
   "cell_type": "code",
   "execution_count": null,
   "metadata": {},
   "outputs": [],
   "source": [
    "from langchain.schema.runnable import RunnableSequence,RunnableLambda\n",
    "from langchain_core.prompts import ChatPromptTemplate\n",
    "from langchain_openai import ChatOpenAI\n",
    "from langchain_core.output_parsers import StrOutputParser\n",
    "import os\n",
    "import json\n",
    "os.environ[\"OPENAI_API_KEY\"] = \"\"\n",
    "llm = ChatOpenAI(\n",
    "    model=\"gpt-4o-mini\"\n",
    ")"
   ]
  },
  {
   "cell_type": "code",
   "execution_count": 2,
   "metadata": {},
   "outputs": [],
   "source": [
    "def validate_order(order):\n",
    "    \"\"\"\n",
    "        驗證訂單系統\n",
    "    \"\"\"\n",
    "    errors=[]\n",
    "    if not order.get(\"customer_id\"):\n",
    "        errors.append(\"缺少客戶id\")\n",
    "    if not order.get(\"items\") or len(order[\"items\"]) == 0:\n",
    "        errors.append(\"訂單中沒有商品\")\n",
    "    return {\"order\":order,\"is_valid\":len(errors)==0,\"errors\":errors}\n",
    "\n",
    "order_RunnableLambda=RunnableLambda(validate_order)"
   ]
  },
  {
   "cell_type": "code",
   "execution_count": 3,
   "metadata": {},
   "outputs": [],
   "source": [
    "def prepare_llm_input(processed_order):\n",
    "    \"\"\"\n",
    "    準備LLM輸入\n",
    "    \"\"\"\n",
    "    return {\"order_info\":json.dumps(processed_order,ensure_ascii=False)}\n",
    "\n",
    "prepare_llm_input_RunnableLambda=RunnableLambda(prepare_llm_input)"
   ]
  },
  {
   "cell_type": "code",
   "execution_count": 4,
   "metadata": {},
   "outputs": [],
   "source": [
    "summary_prompt=ChatPromptTemplate.from_template(\n",
    "    \"你是一個電子商品平台的客戶服務助手。請根據以下訂單內容生成訂單摘要。\"\n",
    "    \"如果訂單無效，請解釋原因。訂單內容:### {order_info}###\"\n",
    ")\n",
    "\n",
    "summary_chain=summary_prompt | llm"
   ]
  },
  {
   "cell_type": "code",
   "execution_count": 5,
   "metadata": {},
   "outputs": [],
   "source": [
    "workflow=RunnableSequence(\n",
    "    validate_order,\n",
    "    prepare_llm_input_RunnableLambda,\n",
    "    summary_chain,\n",
    "    StrOutputParser()\n",
    ")"
   ]
  },
  {
   "cell_type": "code",
   "execution_count": 6,
   "metadata": {},
   "outputs": [
    {
     "name": "stdout",
     "output_type": "stream",
     "text": [
      "訂單摘要：\n",
      "\n",
      "- **客戶ID**: CUS001\n",
      "- **訂單有效性**: 有效\n",
      "- **商品明細**:\n",
      "  - **筆記本電腦**: 價格 3500 元, 數量 1\n",
      "  - **滑鼠**: 價格 2500 元, 數量 2\n",
      "\n",
      "若您有任何其他問題或需要進一步的幫助，請隨時告知！\n",
      "-------------------------------------------------------------\n",
      "訂單摘要：\n",
      "\n",
      "- 客戶ID：CUS002\n",
      "- 訂單狀態：無效\n",
      "- 錯誤原因：訂單中沒有商品\n",
      "\n",
      "由於該訂單未包含任何商品，因此無法處理。請添加商品後再次提交訂單。\n",
      "-------------------------------------------------------------\n",
      "訂單摘要：\n",
      "\n",
      "- 訂單項目：鍵盤\n",
      "- 價格：500元\n",
      "- 數量：1\n",
      "\n",
      "**訂單狀態：無效**\n",
      "\n",
      "**原因：** 此訂單缺少客戶ID，無法處理。請提供有效的客戶ID以便完成訂單。\n",
      "-------------------------------------------------------------\n"
     ]
    }
   ],
   "source": [
    "test_orders=[\n",
    "    {\n",
    "        \"customer_id\":\"CUS001\",\n",
    "        \"items\":[\n",
    "            {\"name\":\"筆記本電腦\",\"price\":3500,\"quantity\":1},\n",
    "            {\"name\":\"滑鼠\",\"price\":2500,\"quantity\":2}\n",
    "        ]\n",
    "    },\n",
    "    {\n",
    "        \"customer_id\":\"CUS002\",\n",
    "        \"items\":[]\n",
    "    },\n",
    "    {\n",
    "        \"items\":[\n",
    "            {\"name\":\"鍵盤\",\"price\":500,\"quantity\":1}\n",
    "        ]\n",
    "    }\n",
    "]\n",
    "\n",
    "for order in test_orders:\n",
    "    result=workflow.invoke(order)\n",
    "    print(result)\n",
    "    print(\"-------------------------------------------------------------\")"
   ]
  }
 ],
 "metadata": {
  "kernelspec": {
   "display_name": "langchainragas",
   "language": "python",
   "name": "python3"
  },
  "language_info": {
   "codemirror_mode": {
    "name": "ipython",
    "version": 3
   },
   "file_extension": ".py",
   "mimetype": "text/x-python",
   "name": "python",
   "nbconvert_exporter": "python",
   "pygments_lexer": "ipython3",
   "version": "3.10.15"
  }
 },
 "nbformat": 4,
 "nbformat_minor": 2
}
