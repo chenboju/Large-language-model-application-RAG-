{
 "cells": [
  {
   "cell_type": "code",
   "execution_count": null,
   "metadata": {},
   "outputs": [],
   "source": [
    "from langchain_openai import ChatOpenAI\n",
    "from langchain.chains import LLMChain,conversation\n",
    "from langchain.chains.router.multi_prompt_prompt import MULTI_PROMPT_ROUTER_TEMPLATE\n",
    "from langchain.chains.router.llm_router import LLMRouterChain,RouterOutputParser\n",
    "from langchain_core.prompts import PromptTemplate\n",
    "import os\n",
    "\n",
    "os.environ[\"OPENAI_API_KEY\"] = \"\"\n",
    "llm = ChatOpenAI(\n",
    "    model=\"gpt-4o-mini\"\n",
    ")"
   ]
  },
  {
   "cell_type": "code",
   "execution_count": 8,
   "metadata": {},
   "outputs": [],
   "source": [
    "traslate_template=\"\"\"\"將以下中文翻譯成英文\n",
    "{input}\"\"\"\n",
    "write_template=\"\"\"\"根據以下提示創作一段文字\n",
    "{input}\"\"\""
   ]
  },
  {
   "cell_type": "code",
   "execution_count": 9,
   "metadata": {},
   "outputs": [],
   "source": [
    "genral_template=\"\"\"回答以下問題:\n",
    "{input}\"\"\"\n",
    "\n",
    "genral_prompt=PromptTemplate(\n",
    "    template=genral_template,\n",
    "    input_variables=[\"input\"],\n",
    "    output_variable=[\"text\"]\n",
    ")\n",
    "\n",
    "genral_chain=LLMChain(llm=llm,prompt=genral_prompt)"
   ]
  },
  {
   "cell_type": "code",
   "execution_count": 10,
   "metadata": {},
   "outputs": [],
   "source": [
    "prompt_infos=[\n",
    "    {\n",
    "        \"name\":\"template_chain\",\n",
    "        \"description\":\"將以下中文翻譯成英文\",\n",
    "        \"prompt_template\":traslate_template\n",
    "    },\n",
    "    {\n",
    "        \"name\":\"write_chain\",\n",
    "        \"description\":\"回答以下問題\",\n",
    "        \"prompt_template\":write_template\n",
    "    }\n",
    "\n",
    "]"
   ]
  },
  {
   "cell_type": "code",
   "execution_count": 17,
   "metadata": {},
   "outputs": [],
   "source": [
    "destinations=[f\"{p['name']}:{p['description']}\" for p in prompt_infos]\n",
    "\n",
    "destinations_str=\"\\n\".join(destinations)\n",
    "\n",
    "router_template=MULTI_PROMPT_ROUTER_TEMPLATE.format(destinations=destinations_str)\n",
    "router_prompt=PromptTemplate(\n",
    "    template=router_template,\n",
    "    input_variables=[\"input\"],\n",
    "    output_parser=RouterOutputParser()\n",
    ")\n",
    "\n",
    "router_chain=LLMRouterChain.from_llm(llm,router_prompt)\n"
   ]
  },
  {
   "cell_type": "code",
   "execution_count": null,
   "metadata": {},
   "outputs": [],
   "source": [
    "destination_chains={}\n",
    "for p_info in prompt_infos:\n",
    "    name=p_info[\"name\"]\n",
    "    prompt_template=p_info[prompt_template]\n",
    "    prompt=PromptTemplate(template=prompt_template,input_variables=[\"input\"])\n",
    "    chain=LLMChain(llm=llm,prompt=prompt)\n",
    "    destination_chains[name]=chain"
   ]
  }
 ],
 "metadata": {
  "kernelspec": {
   "display_name": "langchainragas",
   "language": "python",
   "name": "python3"
  },
  "language_info": {
   "codemirror_mode": {
    "name": "ipython",
    "version": 3
   },
   "file_extension": ".py",
   "mimetype": "text/x-python",
   "name": "python",
   "nbconvert_exporter": "python",
   "pygments_lexer": "ipython3",
   "version": "3.10.15"
  }
 },
 "nbformat": 4,
 "nbformat_minor": 2
}
