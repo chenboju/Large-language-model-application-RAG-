{
 "cells": [
  {
   "cell_type": "code",
   "execution_count": 1,
   "metadata": {},
   "outputs": [],
   "source": [
    "from langchain_openai import ChatOpenAI\n",
    "from langchain_core.messages import HumanMessage,SystemMessage\n",
    "from langchain_core.output_parsers import StrOutputParser"
   ]
  },
  {
   "cell_type": "code",
   "execution_count": null,
   "metadata": {},
   "outputs": [],
   "source": [
    "import os\n",
    "\n",
    "os.environ[\"OPENAI_API_KEY\"] = \"\"\n",
    "llm = ChatOpenAI(\n",
    "    model=\"gpt-4o-mini\"\n",
    "    )"
   ]
  },
  {
   "cell_type": "code",
   "execution_count": 6,
   "metadata": {},
   "outputs": [],
   "source": [
    "from langchain_core.prompts import HumanMessagePromptTemplate,AIMessagePromptTemplate\n",
    "\n",
    "example_prompt=(\n",
    "    HumanMessagePromptTemplate.from_template(\"{description}\")\n",
    "    +AIMessagePromptTemplate.from_template(\"{classification}\")\n",
    ")"
   ]
  },
  {
   "cell_type": "code",
   "execution_count": 7,
   "metadata": {},
   "outputs": [],
   "source": [
    "examples=[\n",
    "    {\n",
    "        \"description\":\"食物偏甜\",\n",
    "        \"classification\":\"南部人\"\n",
    "    },\n",
    "    {\n",
    "        \"description\":\"食物偏鹹\",\n",
    "        \"classification\":\"北部人\"\n",
    "    },\n",
    "    {\n",
    "        \"description\":\"滷肉飯\",\n",
    "        \"classification\":\"北部人\"\n",
    "    },\n",
    "    {\n",
    "        \"description\":\"肉燥飯\",\n",
    "        \"classification\":\"南部人\"\n",
    "    },\n",
    "    {\n",
    "        \"description\":\"搭乘大眾運輸，不怕走路\",\n",
    "        \"classification\":\"北部人\"\n",
    "    },\n",
    "    {\n",
    "        \"description\":\"騎摩托車。不待轉\",\n",
    "        \"classification\":\"南部人\"\n",
    "    },\n",
    "]"
   ]
  },
  {
   "cell_type": "code",
   "execution_count": 8,
   "metadata": {},
   "outputs": [],
   "source": [
    "from langchain_core.prompts.few_shot import FewShotChatMessagePromptTemplate\n",
    "\n",
    "few_shot_prompt=FewShotChatMessagePromptTemplate(\n",
    "    examples=examples,\n",
    "    example_prompt=example_prompt\n",
    ")"
   ]
  },
  {
   "cell_type": "code",
   "execution_count": 9,
   "metadata": {},
   "outputs": [],
   "source": [
    "from langchain_core.output_parsers import StrOutputParser\n",
    "parser=StrOutputParser()\n",
    "\n",
    "from langchain_core.prompts.chat import ChatPromptTemplate\n",
    "\n",
    "final_prompt=ChatPromptTemplate.from_messages(\n",
    "    [\n",
    "        (\"system\",\"請根據以下描述，判斷是哪一種人\"),\n",
    "        few_shot_prompt,\n",
    "        (\"human\",\"{input}\")\n",
    "    ]\n",
    ")\n",
    "\n",
    "\n",
    "chain=final_prompt | llm |parser"
   ]
  },
  {
   "cell_type": "code",
   "execution_count": 10,
   "metadata": {},
   "outputs": [
    {
     "name": "stdout",
     "output_type": "stream",
     "text": [
      "描述: 甜味\n",
      "分類: 喜歡甜食的人。\n"
     ]
    }
   ],
   "source": [
    "user_input=\"甜味\"\n",
    "response=chain.invoke({\"input\":user_input})\n",
    "print(\"描述:\",user_input)\n",
    "print(\"分類:\",response)"
   ]
  },
  {
   "cell_type": "code",
   "execution_count": 11,
   "metadata": {},
   "outputs": [],
   "source": [
    "from langchain.vectorstores import Chroma\n",
    "from langchain_core.example_selectors import SemanticSimilarityExampleSelector\n",
    "from langchain_openai import OpenAIEmbeddings\n",
    "\n",
    "embedding_funtion=OpenAIEmbeddings(\n",
    "     model=\"text-embedding-3-small\"\n",
    ")"
   ]
  },
  {
   "cell_type": "code",
   "execution_count": 12,
   "metadata": {},
   "outputs": [],
   "source": [
    "example_selector=SemanticSimilarityExampleSelector.from_examples(\n",
    "    examples,embedding_funtion,Chroma,k=1\n",
    ")"
   ]
  },
  {
   "cell_type": "code",
   "execution_count": 13,
   "metadata": {},
   "outputs": [
    {
     "name": "stdout",
     "output_type": "stream",
     "text": [
      "騎車經過十字路口會直接左轉\n",
      "最相似的例子是 : \n",
      "classification:南部人\n",
      "description:騎摩托車。不待轉\n",
      "\n",
      "\n"
     ]
    }
   ],
   "source": [
    "question=\"騎車經過十字路口會直接左轉\"\n",
    "\n",
    "\n",
    "select_examples=example_selector.select_examples(\n",
    "    {\"description\":question}\n",
    ")\n",
    "\n",
    "print(question)\n",
    "print(\"最相似的例子是 : \")\n",
    "\n",
    "for example in select_examples:\n",
    "    for key,value in example.items():\n",
    "        print(f\"{key}:{value}\")\n",
    "    print(\"\\n\")\n",
    "    "
   ]
  },
  {
   "cell_type": "code",
   "execution_count": 15,
   "metadata": {},
   "outputs": [
    {
     "name": "stdout",
     "output_type": "stream",
     "text": [
      "messages=[HumanMessage(content='食物偏甜', additional_kwargs={}, response_metadata={}), AIMessage(content='南部人', additional_kwargs={}, response_metadata={})]\n"
     ]
    }
   ],
   "source": [
    "few_shot_prompt_v2=FewShotChatMessagePromptTemplate(\n",
    "    # examples=examples,\n",
    "    example_prompt=example_prompt,\n",
    "    example_selector=example_selector\n",
    ")\n",
    "\n",
    "print(few_shot_prompt_v2.invoke({\"description\":\"喜歡吃甜甜\"}))"
   ]
  },
  {
   "cell_type": "code",
   "execution_count": 16,
   "metadata": {},
   "outputs": [],
   "source": [
    "final_prompt_v2=ChatPromptTemplate.from_messages(\n",
    "    [\n",
    "        (\"system\",\"請根據以下精選描述，判斷是北部人還是南部人\"),\n",
    "        few_shot_prompt,\n",
    "        (\"human\",\"{input}\")\n",
    "    ]\n",
    ")\n",
    "\n",
    "\n",
    "chain_v2=final_prompt | llm |parser"
   ]
  },
  {
   "cell_type": "code",
   "execution_count": 19,
   "metadata": {},
   "outputs": [
    {
     "name": "stdout",
     "output_type": "stream",
     "text": [
      "描述: 甜味\n",
      "分類: 喜歡甜食的人。\n"
     ]
    }
   ],
   "source": [
    "user_input=\"甜味\"\n",
    "response=chain_v2.invoke({\"input\":user_input})\n",
    "print(\"描述:\",user_input)\n",
    "print(\"分類:\",response)"
   ]
  },
  {
   "cell_type": "code",
   "execution_count": 18,
   "metadata": {},
   "outputs": [
    {
     "name": "stdout",
     "output_type": "stream",
     "text": [
      "描述: 醬油有甜味\n",
      "分類: 南部人\n"
     ]
    }
   ],
   "source": [
    "user_input=\"醬油有甜味\"\n",
    "response=chain_v2.invoke({\"input\":user_input})\n",
    "print(\"描述:\",user_input)\n",
    "print(\"分類:\",response)"
   ]
  },
  {
   "cell_type": "code",
   "execution_count": 25,
   "metadata": {},
   "outputs": [],
   "source": [
    "final_prompt_v2=ChatPromptTemplate.from_messages(\n",
    "    [\n",
    "        (\"system\",\"\"\"\n",
    "                    請根據以下精選描述，判斷是北部人還是南部人\n",
    "                    只回答北部人或南部人即可\n",
    "                \"\"\"\n",
    "         \n",
    "         ),\n",
    "        few_shot_prompt,\n",
    "        (\"human\",\"{input}\")\n",
    "    ]\n",
    ")\n",
    "\n",
    "\n",
    "chain_v2=final_prompt | llm |parser"
   ]
  },
  {
   "cell_type": "code",
   "execution_count": 28,
   "metadata": {},
   "outputs": [
    {
     "name": "stdout",
     "output_type": "stream",
     "text": [
      "描述: 有甜味\n",
      "分類: 可以是指南部人，因為南部的食物通常偏甜。\n"
     ]
    }
   ],
   "source": [
    "user_input=\"有甜味\"\n",
    "response=chain_v2.invoke({\"input\":user_input})\n",
    "print(\"描述:\",user_input)\n",
    "print(\"分類:\",response)"
   ]
  }
 ],
 "metadata": {
  "kernelspec": {
   "display_name": "langchainragas",
   "language": "python",
   "name": "python3"
  },
  "language_info": {
   "codemirror_mode": {
    "name": "ipython",
    "version": 3
   },
   "file_extension": ".py",
   "mimetype": "text/x-python",
   "name": "python",
   "nbconvert_exporter": "python",
   "pygments_lexer": "ipython3",
   "version": "3.10.15"
  }
 },
 "nbformat": 4,
 "nbformat_minor": 2
}
