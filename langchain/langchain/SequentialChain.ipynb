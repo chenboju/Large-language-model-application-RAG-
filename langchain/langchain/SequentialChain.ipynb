{
 "cells": [
  {
   "cell_type": "code",
   "execution_count": null,
   "metadata": {},
   "outputs": [],
   "source": [
    "from langchain_openai import ChatOpenAI\n",
    "from langchain.chains import LLMChain,SequentialChain\n",
    "from langchain_core.prompts import PromptTemplate\n",
    "import os\n",
    "\n",
    "os.environ[\"OPENAI_API_KEY\"] = \"\"\n",
    "llm = ChatOpenAI(\n",
    "    model=\"gpt-4o-mini\"\n",
    ")"
   ]
  },
  {
   "cell_type": "code",
   "execution_count": 3,
   "metadata": {},
   "outputs": [],
   "source": [
    "describe_prompt=PromptTemplate(\n",
    "    input_variables=[\"city\"],\n",
    "    template=\"請用描述這個城市: ###{city}###\"\n",
    ")\n",
    "travel_prompt=PromptTemplate(\n",
    "    input_variables=[\"description\"],\n",
    "    template=\"根據描述，為旅客提供一些旅遊指南:###{description}###\"\n",
    ")\n",
    "translate_prompt=PromptTemplate(\n",
    "    input_variables=[\"travel\"],\n",
    "    template=\"請將以下描述翻譯成英文:###{travel}###\"\n",
    ")"
   ]
  },
  {
   "cell_type": "code",
   "execution_count": 7,
   "metadata": {},
   "outputs": [],
   "source": [
    "describe_chain=LLMChain(llm=llm,prompt=describe_prompt,output_key=\"description\")\n",
    "travel_chain=LLMChain(llm=llm,prompt=travel_prompt,output_key=\"travel\")\n",
    "translate_chain=LLMChain(llm=llm,prompt=translate_prompt,output_key=\"final_advise\")"
   ]
  },
  {
   "cell_type": "code",
   "execution_count": 8,
   "metadata": {},
   "outputs": [],
   "source": [
    "sequential_chain=SequentialChain(\n",
    "    chains=[describe_chain,travel_chain,translate_chain],\n",
    "    input_variables=[\"city\"],\n",
    "    output_variables=[\"final_advise\"]\n",
    ")"
   ]
  },
  {
   "cell_type": "code",
   "execution_count": 9,
   "metadata": {},
   "outputs": [
    {
     "name": "stderr",
     "output_type": "stream",
     "text": [
      "C:\\Users\\chen\\AppData\\Local\\Temp\\ipykernel_24828\\530591551.py:1: LangChainDeprecationWarning: The method `Chain.__call__` was deprecated in langchain 0.1.0 and will be removed in 1.0. Use :meth:`~invoke` instead.\n",
      "  result=sequential_chain(\"高雄\")\n"
     ]
    },
    {
     "name": "stdout",
     "output_type": "stream",
     "text": [
      "###### Kaohsiung Travel Guide\n",
      "\n",
      "Kaohsiung is a charming city in Taiwan, boasting a rich history, natural landscapes, and delicious cuisine. Here are some travel tips to help you explore this vibrant city.\n",
      "\n",
      "#### 1. Natural Attractions\n",
      "- **Lotus Pond**: One of the most famous lakes in Kaohsiung, it features several temples and beautiful walking paths perfect for strolls and photography. Don’t miss the Dragon and Tiger Pagodas; climb to the top for a panoramic view.\n",
      "- **Cijin Island**: Take a ferry to this small island to enjoy the beach, seafood, and barbecues. The lighthouse on Cijin is also a must-visit attraction.\n",
      "- **Cijin Wetlands**: This ecologically rich area is ideal for birdwatching and enjoying nature walks, especially great for photography enthusiasts.\n",
      "\n",
      "#### 2. Cultural Experiences\n",
      "- **Liuhe Night Market**: The best place to taste local snacks, with a variety of foods from salt and crispy chicken to bubble tea.\n",
      "- **Ruifeng Night Market**: Another popular night market, especially suitable for families, featuring various game stalls and food options.\n",
      "- **Kaohsiung Hamar Star**: An arts and cultural district with numerous creative shops, cafes, and galleries, perfect for art lovers.\n",
      "\n",
      "#### 3. Transportation Tips\n",
      "- **Kaohsiung MRT**: The MRT system is convenient and fast, connecting major attractions and business areas. It is recommended to purchase an EasyCard, which can be used on both the MRT and buses.\n",
      "- **Light Rail**: The light rail runs along the coastline, offering beautiful ocean views, great for short trips.\n",
      "- **Bus System**: Kaohsiung’s bus network is extensive, reaching nearly every corner of the city.\n",
      "\n",
      "#### 4. Precautions\n",
      "- **Weather**: Kaohsiung summers are hot and humid, so wear light and breathable clothing, and carry sunscreen. Winters are milder, making it suitable for outdoor activities.\n",
      "- **Environmental Awareness**: Kaohsiung is committed to becoming a green city, so please follow environmental regulations and keep public areas clean while traveling.\n",
      "\n",
      "#### 5. Additional Suggestions\n",
      "- **Participate in Festival Activities**: If your visit coincides with local traditional festivals, consider joining in to experience the cultural charm of Kaohsiung.\n",
      "- **Buy Souvenirs**: Local handicrafts and specialty products, such as pineapple cakes and tea, make great souvenir choices.\n",
      "\n",
      "Kaohsiung is a vibrant city where you can find joy in nature, culture, and cuisine. We hope you have a wonderful journey in Kaohsiung!\n"
     ]
    }
   ],
   "source": [
    "result=sequential_chain(\"高雄\")\n",
    "print(result[\"final_advise\"])"
   ]
  }
 ],
 "metadata": {
  "kernelspec": {
   "display_name": "langchainragas",
   "language": "python",
   "name": "python3"
  },
  "language_info": {
   "codemirror_mode": {
    "name": "ipython",
    "version": 3
   },
   "file_extension": ".py",
   "mimetype": "text/x-python",
   "name": "python",
   "nbconvert_exporter": "python",
   "pygments_lexer": "ipython3",
   "version": "3.10.15"
  }
 },
 "nbformat": 4,
 "nbformat_minor": 2
}
